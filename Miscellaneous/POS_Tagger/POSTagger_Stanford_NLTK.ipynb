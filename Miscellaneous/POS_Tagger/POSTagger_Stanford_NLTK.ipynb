{
 "cells": [
  {
   "cell_type": "markdown",
   "metadata": {},
   "source": [
    "# POS tagging with Stanford NLTK\n",
    "\n",
    "An example notebook for using pretrained Stanford pos-tagger provided in the NLTK package. POS tagging is to assign the part-of-speech to each word in the sentence."
   ]
  },
  {
   "cell_type": "code",
   "execution_count": 1,
   "metadata": {},
   "outputs": [
    {
     "name": "stderr",
     "output_type": "stream",
     "text": [
      "Using TensorFlow backend.\n"
     ]
    },
    {
     "data": {
      "text/plain": [
       "('2.2.4',\n",
       " '1.11.0',\n",
       " '3.6.6 |Anaconda, Inc.| (default, Jun 28 2018, 11:27:44) [MSC v.1900 64 bit (AMD64)]')"
      ]
     },
     "execution_count": 1,
     "metadata": {},
     "output_type": "execute_result"
    }
   ],
   "source": [
    "import keras, tensorflow, sys\n",
    "keras.__version__, tensorflow.__version__, sys.version"
   ]
  },
  {
   "cell_type": "code",
   "execution_count": 2,
   "metadata": {},
   "outputs": [],
   "source": [
    "from nltk.tag.stanford import StanfordPOSTagger\n",
    "import os"
   ]
  },
  {
   "cell_type": "markdown",
   "metadata": {},
   "source": [
    "## Setting path for java\n",
    "\n",
    "Since the stanford librarires are built upon java, you must have running java version to use this."
   ]
  },
  {
   "cell_type": "code",
   "execution_count": 3,
   "metadata": {},
   "outputs": [],
   "source": [
    "java_path = r\"C:\\Program Files\\Java\\jdk1.8.0_171\\bin\\java.exe\"\n",
    "os.environ['JAVAHOME'] = java_path"
   ]
  },
  {
   "cell_type": "markdown",
   "metadata": {},
   "source": [
    "## POS tagging a sample text.\n",
    "\n",
    "Download the stanford pos tagger files from the link -> https://nlp.stanford.edu/software/stanford-postagger-2018-10-16.zip and provide the path to the 'english-bidirectional-distsim.tagger' and 'stanford-postagger.jar' files."
   ]
  },
  {
   "cell_type": "code",
   "execution_count": 4,
   "metadata": {},
   "outputs": [
    {
     "name": "stdout",
     "output_type": "stream",
     "text": [
      "[('It', 'PRP'), ('takes', 'VBZ'), ('a', 'DT'), ('great', 'JJ'), ('deal', 'NN'), ('of', 'IN'), ('bravery', 'NN'), ('to', 'TO'), ('stand', 'VB'), ('up', 'RP'), ('to', 'TO'), ('our', 'PRP$'), ('enemies,', 'NN'), ('but', 'CC'), ('just', 'RB'), ('as', 'RB'), ('much', 'JJ'), ('to', 'TO'), ('stand', 'VB'), ('up', 'RP'), ('to', 'TO'), ('our', 'PRP$'), ('friends.', 'NN')]\n"
     ]
    }
   ],
   "source": [
    "path_to_model = \"./stanford-postagger-2018-10-16/models/english-bidirectional-distsim.tagger\"\n",
    "path_to_jar = \"./stanford-postagger-2018-10-16/stanford-postagger.jar\"\n",
    "\n",
    "# Load the pretrained stanford postagger\n",
    "tagger = StanfordPOSTagger(path_to_model, path_to_jar)\n",
    "\n",
    "# Dummy text \n",
    "txt = \"It takes a great deal of bravery to stand up to our enemies, but just as much to stand up to our friends.\"\n",
    "\n",
    "# Postag the sentence and print the words along with there part-of-speech symbols.\n",
    "print(tagger.tag(txt.split()))"
   ]
  },
  {
   "cell_type": "code",
   "execution_count": null,
   "metadata": {},
   "outputs": [],
   "source": []
  }
 ],
 "metadata": {
  "kernelspec": {
   "display_name": "Python 3",
   "language": "python",
   "name": "python3"
  },
  "language_info": {
   "codemirror_mode": {
    "name": "ipython",
    "version": 3
   },
   "file_extension": ".py",
   "mimetype": "text/x-python",
   "name": "python",
   "nbconvert_exporter": "python",
   "pygments_lexer": "ipython3",
   "version": "3.6.6"
  }
 },
 "nbformat": 4,
 "nbformat_minor": 2
}
