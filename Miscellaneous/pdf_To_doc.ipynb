{
 "cells": [
  {
   "cell_type": "markdown",
   "metadata": {},
   "source": [
    "# Example for converting PDF document to string\n",
    "\n",
    "A function to read any pdf file and get the text in string format using pdfminer package in python 3.6"
   ]
  },
  {
   "cell_type": "code",
   "execution_count": 1,
   "metadata": {},
   "outputs": [
    {
     "name": "stderr",
     "output_type": "stream",
     "text": [
      "Using TensorFlow backend.\n"
     ]
    },
    {
     "data": {
      "text/plain": [
       "('2.2.4',\n",
       " '1.11.0',\n",
       " '3.6.6 |Anaconda, Inc.| (default, Jun 28 2018, 11:27:44) [MSC v.1900 64 bit (AMD64)]')"
      ]
     },
     "execution_count": 1,
     "metadata": {},
     "output_type": "execute_result"
    }
   ],
   "source": [
    "import keras, tensorflow, sys\n",
    "keras.__version__, tensorflow.__version__, sys.version"
   ]
  },
  {
   "cell_type": "markdown",
   "metadata": {},
   "source": [
    "## Package Required: pdfminer\n",
    "\n",
    "To install in python 3.6 Windows 10 use pip command : pip install pdfminer.six"
   ]
  },
  {
   "cell_type": "code",
   "execution_count": 2,
   "metadata": {},
   "outputs": [],
   "source": [
    "# import packages\n",
    "\n",
    "from pdfminer.pdfinterp import PDFResourceManager, PDFPageInterpreter\n",
    "from pdfminer.converter import TextConverter\n",
    "from pdfminer.layout import LAParams\n",
    "from pdfminer.pdfpage import PDFPage\n",
    "from io import StringIO\n",
    "\n",
    "import re\n"
   ]
  },
  {
   "cell_type": "markdown",
   "metadata": {},
   "source": [
    "## Function to read pdf files"
   ]
  },
  {
   "cell_type": "code",
   "execution_count": 3,
   "metadata": {},
   "outputs": [],
   "source": [
    "def convert_pdf_to_txt(path):\n",
    "    rsrcmgr = PDFResourceManager()\n",
    "    retstr = StringIO()\n",
    "    \n",
    "    # Get a text coverter for reading pdf file\n",
    "    device = TextConverter(rsrcmgr, retstr, codec=\"utf8\", laparams=LAParams())\n",
    "    pdf_file = open(path, 'rb')\n",
    "    interpreter = PDFPageInterpreter(rsrcmgr, device)\n",
    "    pagenos=set()\n",
    "\n",
    "    # converte the pdf file to stringIO using the interpreter for reading pdf file.\n",
    "    for page in PDFPage.get_pages(pdf_file, pagenos, maxpages=0, password=\"\",caching=True, check_extractable=True):\n",
    "        interpreter.process_page(page)\n",
    "\n",
    "    text = retstr.getvalue()\n",
    "    \n",
    "    # close all the open streams\n",
    "    pdf_file.close()\n",
    "    device.close()\n",
    "    retstr.close()\n",
    "    \n",
    "    return text"
   ]
  },
  {
   "cell_type": "code",
   "execution_count": 4,
   "metadata": {},
   "outputs": [
    {
     "name": "stdout",
     "output_type": "stream",
     "text": [
      " \n",
      "\n",
      " \n",
      "\n",
      "Contact\n",
      "8867211055 (Mobile)\n",
      "netik1020@gmail.com\n",
      "\n",
      "www.linkedin.com/in/netik1020\n",
      "(LinkedIn)\n",
      "\n",
      "Top Skills\n",
      "Machine Learning\n",
      "Deep Learning\n",
      "Research\n",
      "\n",
      "Certifications\n",
      "Applied Text Mining in Python\n",
      "Introduction to Data Science in\n",
      "Python\n",
      "Applied Social Network Analysis in\n",
      "Python\n",
      "Applied Machine Learning in Python\n",
      "Improving Deep Neural Networks:\n",
      "Hyperparameter tuning,\n",
      "Regularization and Optimization\n",
      "\n",
      " \n",
      "\n",
      "Netik Agarwal\n",
      "\n",
      "Data Science Consultant - Deep Learning Researcher\n",
      "Bengaluru, Karnataka, India\n",
      "\n",
      "Summary\n",
      "A Passionate Deep Learning engineer, working as a consultant. I am\n",
      "proficient with:-\n",
      "1. Neural Networks like LSTM, CNN, GAN and Autoencoders using\n",
      "inception blocks, resnet.\n",
      "2. Solving text classification problems using Bi-LSTM with word\n",
      "embeddings like word2vec/ Glove.\n",
      "3. Working on big data in a Hadoop cluster using PySpark API of\n",
      "spark.\n",
      "4. Working on images using CNN and OpenCV for data\n",
      "transformation.\n",
      "5. The underlying math behind gradients, optimizers and different\n",
      "algorithms.\n",
      "6. ML packages in python like scikit-Learn, numpy, pandas to use\n",
      "models like SVM, boosted trees, XGB.\n",
      "7. Deep Neural network models with tensorflow (both high & low\n",
      "level API's), mxnet and also Keras API.\n",
      "\n",
      "Experience\n",
      "\n",
      "Self employed\n",
      "Data science Consultant\n",
      "October 2017 - Present \n",
      "Bengaluru Area, India\n",
      "\n",
      "Webyog, Inc.\n",
      "Software Engineer\n",
      "June 2016 - January 2017 (8 months)\n",
      "Bengaluru Area, India\n",
      "Worked with Win32 API to make bug-fixes and introduce new features for\n",
      "SQLyog - GUI tool to manage databases.\n",
      "\n",
      "Page 1 of 2\n",
      "\n",
      "\f",
      " \n",
      "\n",
      " \n",
      "\n",
      " \n",
      "\n",
      "Philips\n",
      "Intern\n",
      "January 2016 - May 2016 (5 months)\n",
      "Bengaluru Area, India\n",
      "Developing Rest services for management of medical images and integration\n",
      "of these services.\n",
      "\n",
      "Education\n",
      "Manipal Institute of Technology\n",
      "BTECH, Information Technology · (2012 - 2016)\n",
      "\n",
      "Page 2 of 2\n",
      "\n",
      "\f",
      "\n"
     ]
    }
   ],
   "source": [
    "print(convert_pdf_to_txt('C:/Users/Netik/Downloads/netik/Netik_Resume.pdf'))"
   ]
  },
  {
   "cell_type": "code",
   "execution_count": null,
   "metadata": {},
   "outputs": [],
   "source": []
  }
 ],
 "metadata": {
  "kernelspec": {
   "display_name": "Python 3",
   "language": "python",
   "name": "python3"
  },
  "language_info": {
   "codemirror_mode": {
    "name": "ipython",
    "version": 3
   },
   "file_extension": ".py",
   "mimetype": "text/x-python",
   "name": "python",
   "nbconvert_exporter": "python",
   "pygments_lexer": "ipython3",
   "version": "3.6.6"
  }
 },
 "nbformat": 4,
 "nbformat_minor": 2
}
